{
 "cells": [
  {
   "cell_type": "markdown",
   "metadata": {},
   "source": [
    "# 1. Perkenalan\n",
    "\n",
    "```\n",
    "===========================================================================================\n",
    "Milestone I\n",
    "\n",
    "Nama : Yohanes Raditya Wirawan Aruan\n",
    "Batch : HCK-022\n",
    "\n",
    "Milestone ini dibuat untuk menganalisa kepuasan penumpang sebuah maskapai \n",
    "============================================================================================\n",
    "```"
   ]
  },
  {
   "cell_type": "markdown",
   "metadata": {},
   "source": [
    "# 2. Identifikasi Masalah\n",
    "\n",
    "```\n",
    "Memahami faktor-faktor yang mempengaruhi kepuasan penumpang maskapai. Hal ini penting bagi maskapai untuk meningkatkan layanan dan mempertahankan penumpang \n",
    "```"
   ]
  },
  {
   "cell_type": "markdown",
   "metadata": {},
   "source": [
    "## 2.1 Topik Permasalahan\n",
    "\n",
    "```\n",
    "a. Memahami faktor kepuasan pelanggan \n",
    "b. Perbedaan kepuasaan di berbagai segmen \n",
    "```"
   ]
  },
  {
   "cell_type": "markdown",
   "metadata": {},
   "source": [
    "## 2.2 SMART Analysis and Problem Statement\n",
    "```\n",
    "\n",
    "Specific = Menganalisis data kepuasan penumpang maskapai untuk meningkatkan kepuasan penumpang dan loyal customer. \n",
    "\n",
    "Measurable = Meningkatkan persentase kepuasan penumpang dari tipe loyal customer dari 48% menjadi 50%. \n",
    "\n",
    "Achievable = Kumpulan data berisi penumpang, detail penerbangan, dan layanan, sehingga memungkinkan untuk melakukan analisis yang diperlukan. \n",
    "\n",
    "Relevant = Memberikan wawasan berharga bagi maskapai untuk meningkatkan kepuasan pelanggan yang berpotensi meningkatkan loyalitas dan profitabilitas pelanggan. \n",
    "\n",
    "Time-bound = Meningkatkan kepuasan penumpang dan peningkatan layanan maskapai untuk Q1 tahun 2025. \n",
    "\n",
    "\n",
    "Maskapai penerbangan menghadapi tantangan dalam mempertahankan tingkat kepuasan pelanggan, terutama di kalangan loyal customer. Saat ini, hanya 48% dari penumpang loyal yang merasa puas dengan layanan maskapai. Untuk meningkatkan loyalitas dan profitabilitas, maskapai perlu meningkatkan persentase kepuasan penumpang loyal menjadi 50% pada akhir Q1 tahun 2025. Analisis data penumpang, penerbangan, dan peringkat layanan akan digunakan untuk mengidentifikasi area perbaikan layanan yang paling berdampak terhadap kepuasan pelanggan, yang dapat membantu maskapai dalam memberikan pengalaman yang lebih baik dan memperkuat basis pelanggan setia mereka\n",
    "\n",
    "```"
   ]
  },
  {
   "cell_type": "markdown",
   "metadata": {},
   "source": [
    "## 2.3 Latar Belakang\n",
    "\n",
    "```\n",
    "Dalam industri penerbangan yang sangat kompetitif, kepuasan pelanggan merupakan faktor penting untuk meraih kesuksesan. Memahami penilaian dari kepuasan pelanggan yang dapat membantu maskapai meningkatkan layanan dan pada akhirnya meningkatkan profitabilitas \n",
    "```"
   ]
  },
  {
   "cell_type": "markdown",
   "metadata": {},
   "source": [
    "## 2.4 Penjabaran Masalah\n"
   ]
  },
  {
   "cell_type": "markdown",
   "metadata": {},
   "source": [
    "# 3. Data Loading"
   ]
  },
  {
   "cell_type": "code",
   "execution_count": 25,
   "metadata": {},
   "outputs": [],
   "source": [
    "import pandas as pd\n",
    "import matplotlib.pyplot as plt\n",
    "import seaborn as sns\n",
    "from scipy import stats"
   ]
  },
  {
   "cell_type": "code",
   "execution_count": 2,
   "metadata": {},
   "outputs": [],
   "source": [
    "# Membuat function untuk membaca file csv\n",
    "df_airlines = pd.read_csv(\"test.csv\")"
   ]
  },
  {
   "cell_type": "markdown",
   "metadata": {},
   "source": [
    "## 3.1 Data Exploration"
   ]
  },
  {
   "cell_type": "code",
   "execution_count": 15,
   "metadata": {},
   "outputs": [],
   "source": [
    "# Membuat memunculkan semua kolom\n",
    "pd.set_option('display.max_columns', None)"
   ]
  },
  {
   "cell_type": "code",
   "execution_count": 16,
   "metadata": {},
   "outputs": [
    {
     "name": "stdout",
     "output_type": "stream",
     "text": [
      "<class 'pandas.core.frame.DataFrame'>\n",
      "RangeIndex: 25976 entries, 0 to 25975\n",
      "Data columns (total 25 columns):\n",
      " #   Column                             Non-Null Count  Dtype  \n",
      "---  ------                             --------------  -----  \n",
      " 0   Unnamed: 0                         25976 non-null  int64  \n",
      " 1   id                                 25976 non-null  int64  \n",
      " 2   Gender                             25976 non-null  object \n",
      " 3   Customer Type                      25976 non-null  object \n",
      " 4   Age                                25976 non-null  int64  \n",
      " 5   Type of Travel                     25976 non-null  object \n",
      " 6   Class                              25976 non-null  object \n",
      " 7   Flight Distance                    25976 non-null  int64  \n",
      " 8   Inflight wifi service              25976 non-null  int64  \n",
      " 9   Departure/Arrival time convenient  25976 non-null  int64  \n",
      " 10  Ease of Online booking             25976 non-null  int64  \n",
      " 11  Gate location                      25976 non-null  int64  \n",
      " 12  Food and drink                     25976 non-null  int64  \n",
      " 13  Online boarding                    25976 non-null  int64  \n",
      " 14  Seat comfort                       25976 non-null  int64  \n",
      " 15  Inflight entertainment             25976 non-null  int64  \n",
      " 16  On-board service                   25976 non-null  int64  \n",
      " 17  Leg room service                   25976 non-null  int64  \n",
      " 18  Baggage handling                   25976 non-null  int64  \n",
      " 19  Checkin service                    25976 non-null  int64  \n",
      " 20  Inflight service                   25976 non-null  int64  \n",
      " 21  Cleanliness                        25976 non-null  int64  \n",
      " 22  Departure Delay in Minutes         25976 non-null  int64  \n",
      " 23  Arrival Delay in Minutes           25893 non-null  float64\n",
      " 24  satisfaction                       25976 non-null  object \n",
      "dtypes: float64(1), int64(19), object(5)\n",
      "memory usage: 5.0+ MB\n"
     ]
    }
   ],
   "source": [
    "# Membuat mencari info dataframe\n",
    "df_info_airlines = df_airlines.info()\n",
    "df_info_airlines"
   ]
  },
  {
   "cell_type": "markdown",
   "metadata": {},
   "source": [
    "```\n",
    "Insight: Dari data info diatas, dapat disimpulkan bawha data typennya sesuai dengan peruntukannya.\n",
    "```"
   ]
  },
  {
   "cell_type": "code",
   "execution_count": 12,
   "metadata": {},
   "outputs": [
    {
     "data": {
      "text/plain": [
       "Index(['Unnamed: 0', 'id', 'Gender', 'Customer Type', 'Age', 'Type of Travel',\n",
       "       'Class', 'Flight Distance', 'Inflight wifi service',\n",
       "       'Departure/Arrival time convenient', 'Ease of Online booking',\n",
       "       'Gate location', 'Food and drink', 'Online boarding', 'Seat comfort',\n",
       "       'Inflight entertainment', 'On-board service', 'Leg room service',\n",
       "       'Baggage handling', 'Checkin service', 'Inflight service',\n",
       "       'Cleanliness', 'Departure Delay in Minutes', 'Arrival Delay in Minutes',\n",
       "       'satisfaction'],\n",
       "      dtype='object')"
      ]
     },
     "execution_count": 12,
     "metadata": {},
     "output_type": "execute_result"
    }
   ],
   "source": [
    "# Menampilkan kolom dari dataframe\n",
    "df_airlines.columns"
   ]
  },
  {
   "cell_type": "code",
   "execution_count": 9,
   "metadata": {},
   "outputs": [
    {
     "data": {
      "text/plain": [
       "Unnamed: 0                            0\n",
       "id                                    0\n",
       "Gender                                0\n",
       "Customer Type                         0\n",
       "Age                                   0\n",
       "Type of Travel                        0\n",
       "Class                                 0\n",
       "Flight Distance                       0\n",
       "Inflight wifi service                 0\n",
       "Departure/Arrival time convenient     0\n",
       "Ease of Online booking                0\n",
       "Gate location                         0\n",
       "Food and drink                        0\n",
       "Online boarding                       0\n",
       "Seat comfort                          0\n",
       "Inflight entertainment                0\n",
       "On-board service                      0\n",
       "Leg room service                      0\n",
       "Baggage handling                      0\n",
       "Checkin service                       0\n",
       "Inflight service                      0\n",
       "Cleanliness                           0\n",
       "Departure Delay in Minutes            0\n",
       "Arrival Delay in Minutes             83\n",
       "satisfaction                          0\n",
       "dtype: int64"
      ]
     },
     "execution_count": 9,
     "metadata": {},
     "output_type": "execute_result"
    }
   ],
   "source": [
    "# Menampilkan kesimpulan null\n",
    "df_airlines.isnull().sum()"
   ]
  },
  {
   "cell_type": "markdown",
   "metadata": {},
   "source": [
    "```\n",
    "Insight: terdapat missing value di kolom Arrival Delay in Minutes. Hal ini dapat di atasi dengan handling missing value\n",
    "```"
   ]
  },
  {
   "cell_type": "code",
   "execution_count": 10,
   "metadata": {},
   "outputs": [
    {
     "data": {
      "text/html": [
       "<div>\n",
       "<style scoped>\n",
       "    .dataframe tbody tr th:only-of-type {\n",
       "        vertical-align: middle;\n",
       "    }\n",
       "\n",
       "    .dataframe tbody tr th {\n",
       "        vertical-align: top;\n",
       "    }\n",
       "\n",
       "    .dataframe thead th {\n",
       "        text-align: right;\n",
       "    }\n",
       "</style>\n",
       "<table border=\"1\" class=\"dataframe\">\n",
       "  <thead>\n",
       "    <tr style=\"text-align: right;\">\n",
       "      <th></th>\n",
       "      <th>Unnamed: 0</th>\n",
       "      <th>id</th>\n",
       "      <th>Gender</th>\n",
       "      <th>Customer Type</th>\n",
       "      <th>Age</th>\n",
       "      <th>Type of Travel</th>\n",
       "      <th>Class</th>\n",
       "      <th>Flight Distance</th>\n",
       "      <th>Inflight wifi service</th>\n",
       "      <th>Departure/Arrival time convenient</th>\n",
       "      <th>Ease of Online booking</th>\n",
       "      <th>Gate location</th>\n",
       "      <th>Food and drink</th>\n",
       "      <th>Online boarding</th>\n",
       "      <th>Seat comfort</th>\n",
       "      <th>Inflight entertainment</th>\n",
       "      <th>On-board service</th>\n",
       "      <th>Leg room service</th>\n",
       "      <th>Baggage handling</th>\n",
       "      <th>Checkin service</th>\n",
       "      <th>Inflight service</th>\n",
       "      <th>Cleanliness</th>\n",
       "      <th>Departure Delay in Minutes</th>\n",
       "      <th>Arrival Delay in Minutes</th>\n",
       "      <th>satisfaction</th>\n",
       "    </tr>\n",
       "  </thead>\n",
       "  <tbody>\n",
       "    <tr>\n",
       "      <th>0</th>\n",
       "      <td>0</td>\n",
       "      <td>19556</td>\n",
       "      <td>Female</td>\n",
       "      <td>Loyal Customer</td>\n",
       "      <td>52</td>\n",
       "      <td>Business travel</td>\n",
       "      <td>Eco</td>\n",
       "      <td>160</td>\n",
       "      <td>5</td>\n",
       "      <td>4</td>\n",
       "      <td>3</td>\n",
       "      <td>4</td>\n",
       "      <td>3</td>\n",
       "      <td>4</td>\n",
       "      <td>3</td>\n",
       "      <td>5</td>\n",
       "      <td>5</td>\n",
       "      <td>5</td>\n",
       "      <td>5</td>\n",
       "      <td>2</td>\n",
       "      <td>5</td>\n",
       "      <td>5</td>\n",
       "      <td>50</td>\n",
       "      <td>44.0</td>\n",
       "      <td>satisfied</td>\n",
       "    </tr>\n",
       "    <tr>\n",
       "      <th>1</th>\n",
       "      <td>1</td>\n",
       "      <td>90035</td>\n",
       "      <td>Female</td>\n",
       "      <td>Loyal Customer</td>\n",
       "      <td>36</td>\n",
       "      <td>Business travel</td>\n",
       "      <td>Business</td>\n",
       "      <td>2863</td>\n",
       "      <td>1</td>\n",
       "      <td>1</td>\n",
       "      <td>3</td>\n",
       "      <td>1</td>\n",
       "      <td>5</td>\n",
       "      <td>4</td>\n",
       "      <td>5</td>\n",
       "      <td>4</td>\n",
       "      <td>4</td>\n",
       "      <td>4</td>\n",
       "      <td>4</td>\n",
       "      <td>3</td>\n",
       "      <td>4</td>\n",
       "      <td>5</td>\n",
       "      <td>0</td>\n",
       "      <td>0.0</td>\n",
       "      <td>satisfied</td>\n",
       "    </tr>\n",
       "    <tr>\n",
       "      <th>2</th>\n",
       "      <td>2</td>\n",
       "      <td>12360</td>\n",
       "      <td>Male</td>\n",
       "      <td>disloyal Customer</td>\n",
       "      <td>20</td>\n",
       "      <td>Business travel</td>\n",
       "      <td>Eco</td>\n",
       "      <td>192</td>\n",
       "      <td>2</td>\n",
       "      <td>0</td>\n",
       "      <td>2</td>\n",
       "      <td>4</td>\n",
       "      <td>2</td>\n",
       "      <td>2</td>\n",
       "      <td>2</td>\n",
       "      <td>2</td>\n",
       "      <td>4</td>\n",
       "      <td>1</td>\n",
       "      <td>3</td>\n",
       "      <td>2</td>\n",
       "      <td>2</td>\n",
       "      <td>2</td>\n",
       "      <td>0</td>\n",
       "      <td>0.0</td>\n",
       "      <td>neutral or dissatisfied</td>\n",
       "    </tr>\n",
       "    <tr>\n",
       "      <th>3</th>\n",
       "      <td>3</td>\n",
       "      <td>77959</td>\n",
       "      <td>Male</td>\n",
       "      <td>Loyal Customer</td>\n",
       "      <td>44</td>\n",
       "      <td>Business travel</td>\n",
       "      <td>Business</td>\n",
       "      <td>3377</td>\n",
       "      <td>0</td>\n",
       "      <td>0</td>\n",
       "      <td>0</td>\n",
       "      <td>2</td>\n",
       "      <td>3</td>\n",
       "      <td>4</td>\n",
       "      <td>4</td>\n",
       "      <td>1</td>\n",
       "      <td>1</td>\n",
       "      <td>1</td>\n",
       "      <td>1</td>\n",
       "      <td>3</td>\n",
       "      <td>1</td>\n",
       "      <td>4</td>\n",
       "      <td>0</td>\n",
       "      <td>6.0</td>\n",
       "      <td>satisfied</td>\n",
       "    </tr>\n",
       "    <tr>\n",
       "      <th>4</th>\n",
       "      <td>4</td>\n",
       "      <td>36875</td>\n",
       "      <td>Female</td>\n",
       "      <td>Loyal Customer</td>\n",
       "      <td>49</td>\n",
       "      <td>Business travel</td>\n",
       "      <td>Eco</td>\n",
       "      <td>1182</td>\n",
       "      <td>2</td>\n",
       "      <td>3</td>\n",
       "      <td>4</td>\n",
       "      <td>3</td>\n",
       "      <td>4</td>\n",
       "      <td>1</td>\n",
       "      <td>2</td>\n",
       "      <td>2</td>\n",
       "      <td>2</td>\n",
       "      <td>2</td>\n",
       "      <td>2</td>\n",
       "      <td>4</td>\n",
       "      <td>2</td>\n",
       "      <td>4</td>\n",
       "      <td>0</td>\n",
       "      <td>20.0</td>\n",
       "      <td>satisfied</td>\n",
       "    </tr>\n",
       "  </tbody>\n",
       "</table>\n",
       "</div>"
      ],
      "text/plain": [
       "   Unnamed: 0     id  Gender      Customer Type  Age   Type of Travel  \\\n",
       "0           0  19556  Female     Loyal Customer   52  Business travel   \n",
       "1           1  90035  Female     Loyal Customer   36  Business travel   \n",
       "2           2  12360    Male  disloyal Customer   20  Business travel   \n",
       "3           3  77959    Male     Loyal Customer   44  Business travel   \n",
       "4           4  36875  Female     Loyal Customer   49  Business travel   \n",
       "\n",
       "      Class  Flight Distance  Inflight wifi service  \\\n",
       "0       Eco              160                      5   \n",
       "1  Business             2863                      1   \n",
       "2       Eco              192                      2   \n",
       "3  Business             3377                      0   \n",
       "4       Eco             1182                      2   \n",
       "\n",
       "   Departure/Arrival time convenient  Ease of Online booking  Gate location  \\\n",
       "0                                  4                       3              4   \n",
       "1                                  1                       3              1   \n",
       "2                                  0                       2              4   \n",
       "3                                  0                       0              2   \n",
       "4                                  3                       4              3   \n",
       "\n",
       "   Food and drink  Online boarding  Seat comfort  Inflight entertainment  \\\n",
       "0               3                4             3                       5   \n",
       "1               5                4             5                       4   \n",
       "2               2                2             2                       2   \n",
       "3               3                4             4                       1   \n",
       "4               4                1             2                       2   \n",
       "\n",
       "   On-board service  Leg room service  Baggage handling  Checkin service  \\\n",
       "0                 5                 5                 5                2   \n",
       "1                 4                 4                 4                3   \n",
       "2                 4                 1                 3                2   \n",
       "3                 1                 1                 1                3   \n",
       "4                 2                 2                 2                4   \n",
       "\n",
       "   Inflight service  Cleanliness  Departure Delay in Minutes  \\\n",
       "0                 5            5                          50   \n",
       "1                 4            5                           0   \n",
       "2                 2            2                           0   \n",
       "3                 1            4                           0   \n",
       "4                 2            4                           0   \n",
       "\n",
       "   Arrival Delay in Minutes             satisfaction  \n",
       "0                      44.0                satisfied  \n",
       "1                       0.0                satisfied  \n",
       "2                       0.0  neutral or dissatisfied  \n",
       "3                       6.0                satisfied  \n",
       "4                      20.0                satisfied  "
      ]
     },
     "execution_count": 10,
     "metadata": {},
     "output_type": "execute_result"
    }
   ],
   "source": [
    "df_airlines.head()"
   ]
  },
  {
   "cell_type": "code",
   "execution_count": 13,
   "metadata": {},
   "outputs": [
    {
     "data": {
      "text/plain": [
       "Unnamed: 0                           25976\n",
       "id                                   25976\n",
       "Gender                                   2\n",
       "Customer Type                            2\n",
       "Age                                     75\n",
       "Type of Travel                           2\n",
       "Class                                    3\n",
       "Flight Distance                       3281\n",
       "Inflight wifi service                    6\n",
       "Departure/Arrival time convenient        6\n",
       "Ease of Online booking                   6\n",
       "Gate location                            5\n",
       "Food and drink                           6\n",
       "Online boarding                          6\n",
       "Seat comfort                             5\n",
       "Inflight entertainment                   6\n",
       "On-board service                         6\n",
       "Leg room service                         6\n",
       "Baggage handling                         5\n",
       "Checkin service                          5\n",
       "Inflight service                         6\n",
       "Cleanliness                              6\n",
       "Departure Delay in Minutes             313\n",
       "Arrival Delay in Minutes               320\n",
       "satisfaction                             2\n",
       "dtype: int64"
      ]
     },
     "execution_count": 13,
     "metadata": {},
     "output_type": "execute_result"
    }
   ],
   "source": [
    "# Menghitung nilai unique\n",
    "df_airlines.nunique()"
   ]
  },
  {
   "cell_type": "markdown",
   "metadata": {},
   "source": [
    "```\n",
    "Insight: terdapat kolom uniqe value di kolom id, flight distance, departure delay in minutes, dan arrival delay in minutes.\n",
    "```"
   ]
  },
  {
   "cell_type": "markdown",
   "metadata": {},
   "source": [
    "## 3.2 Data Summary\n",
    "\n",
    "```\n",
    "Dari menampilkan data info didapatkan sebuah informasi data type yang sesuai dengan peruntukkannya. Datatype integer terbaik untuk bilangan bulat dan mewakili jumlah, datatype float ideal untuk pengukuran dan desimal, datatype objek cocok untuk data kategori \n",
    "\n",
    "Dari menampilkan df_airlines.isnull().sum() menghasilkan jumlah nilai yang hilang di setiap kolom. Dan ditemukan di kolom Arrival Delay in Minutes terdapat 83 data yang hilang. Hal ini dapat diatasi dengan handling missing value. \n",
    "\n",
    "Dari menampilkan df_airlines.nunique() menghasilkan jumlah nilai unik di setiap kolom. Ditemukannya nilai jumlah unik di kolom id dan flight distance. Dari penemuan ini dapat dikatakan bahwa kolom id, flight distance, departure delay in minutes, dan arrival delay in minutes cenderung bersifat numerik.\n",
    "\n",
    "    *id dan unnamed dapat dikatakan sebagai identifier \n",
    "    *age terdapat 75 nilai unik yang memungkinkan analisis berdasarkan kelompok usia \n",
    "    *Flight distance terdapat 3281 nilai unik nilai jumlah unik yang tinggi menunjukkan bahwa jarak penerbangan sangat bervariasi. Hal ini dapat dianalisis apakah jarak penerbangan memengaruhi kepuasan atau waktu delay\n",
    "\n",
    "    *Departure delay in minutes bernilai 313 nilai unik dan arrival delay in minutes 320 nilai unik. Nilai unik yang relatif tinggi mennujukkan bahwa penundaan kebrangkatan dan kedatangan bervariasi. Hal ini dapat digunakan untuk menganalisis hubungan antara waktu penundaan dan kepuasan pelanggan\n",
    "\n",
    "```"
   ]
  },
  {
   "cell_type": "markdown",
   "metadata": {},
   "source": [
    "## 3.3 Mengecek missing value\n"
   ]
  },
  {
   "cell_type": "code",
   "execution_count": 17,
   "metadata": {},
   "outputs": [
    {
     "data": {
      "text/plain": [
       "Unnamed: 0                            0\n",
       "id                                    0\n",
       "Gender                                0\n",
       "Customer Type                         0\n",
       "Age                                   0\n",
       "Type of Travel                        0\n",
       "Class                                 0\n",
       "Flight Distance                       0\n",
       "Inflight wifi service                 0\n",
       "Departure/Arrival time convenient     0\n",
       "Ease of Online booking                0\n",
       "Gate location                         0\n",
       "Food and drink                        0\n",
       "Online boarding                       0\n",
       "Seat comfort                          0\n",
       "Inflight entertainment                0\n",
       "On-board service                      0\n",
       "Leg room service                      0\n",
       "Baggage handling                      0\n",
       "Checkin service                       0\n",
       "Inflight service                      0\n",
       "Cleanliness                           0\n",
       "Departure Delay in Minutes            0\n",
       "Arrival Delay in Minutes             83\n",
       "satisfaction                          0\n",
       "dtype: int64"
      ]
     },
     "execution_count": 17,
     "metadata": {},
     "output_type": "execute_result"
    }
   ],
   "source": [
    "df_airlines.isnull().sum()"
   ]
  },
  {
   "cell_type": "markdown",
   "metadata": {},
   "source": []
  },
  {
   "cell_type": "markdown",
   "metadata": {},
   "source": [
    "# 4. Data Cleaning"
   ]
  },
  {
   "cell_type": "markdown",
   "metadata": {},
   "source": [
    "## 4.1 Cleaning missing value"
   ]
  },
  {
   "cell_type": "code",
   "execution_count": 20,
   "metadata": {},
   "outputs": [
    {
     "data": {
      "text/plain": [
       "6.984497404158308"
      ]
     },
     "execution_count": 20,
     "metadata": {},
     "output_type": "execute_result"
    }
   ],
   "source": [
    "df_airlines['Arrival Delay in Minutes'].skew()"
   ]
  },
  {
   "cell_type": "markdown",
   "metadata": {},
   "source": [
    "```\n",
    "Insight: di kolom Arrival Delay in Minutes memiliki nilai skew 6.9 sehingga terindikasi distribusi data tidak normal sehingga untuk mengisi nilai missing digunakan nilai median sebagai representatif missing value.\n",
    "```"
   ]
  },
  {
   "cell_type": "code",
   "execution_count": 21,
   "metadata": {},
   "outputs": [],
   "source": [
    "df_airlines['Arrival Delay in Minutes'] = df_airlines['Arrival Delay in Minutes'].fillna(df_airlines['Arrival Delay in Minutes'].median())"
   ]
  },
  {
   "cell_type": "markdown",
   "metadata": {},
   "source": [
    "```\n",
    "Insight: mengisi missing value dengan median\n",
    "```"
   ]
  },
  {
   "cell_type": "code",
   "execution_count": 22,
   "metadata": {},
   "outputs": [
    {
     "data": {
      "text/plain": [
       "Unnamed: 0                           0\n",
       "id                                   0\n",
       "Gender                               0\n",
       "Customer Type                        0\n",
       "Age                                  0\n",
       "Type of Travel                       0\n",
       "Class                                0\n",
       "Flight Distance                      0\n",
       "Inflight wifi service                0\n",
       "Departure/Arrival time convenient    0\n",
       "Ease of Online booking               0\n",
       "Gate location                        0\n",
       "Food and drink                       0\n",
       "Online boarding                      0\n",
       "Seat comfort                         0\n",
       "Inflight entertainment               0\n",
       "On-board service                     0\n",
       "Leg room service                     0\n",
       "Baggage handling                     0\n",
       "Checkin service                      0\n",
       "Inflight service                     0\n",
       "Cleanliness                          0\n",
       "Departure Delay in Minutes           0\n",
       "Arrival Delay in Minutes             0\n",
       "satisfaction                         0\n",
       "dtype: int64"
      ]
     },
     "execution_count": 22,
     "metadata": {},
     "output_type": "execute_result"
    }
   ],
   "source": [
    "df_airlines.isna().sum()"
   ]
  },
  {
   "cell_type": "markdown",
   "metadata": {},
   "source": [
    "```\n",
    "Insight: mengecek missing value setelah diatasi \n",
    "```"
   ]
  },
  {
   "cell_type": "code",
   "execution_count": 63,
   "metadata": {},
   "outputs": [],
   "source": [
    "df_airlines_clean = df_airlines.drop(columns='Unnamed: 0')"
   ]
  },
  {
   "cell_type": "code",
   "execution_count": 65,
   "metadata": {},
   "outputs": [
    {
     "data": {
      "text/html": [
       "<div>\n",
       "<style scoped>\n",
       "    .dataframe tbody tr th:only-of-type {\n",
       "        vertical-align: middle;\n",
       "    }\n",
       "\n",
       "    .dataframe tbody tr th {\n",
       "        vertical-align: top;\n",
       "    }\n",
       "\n",
       "    .dataframe thead th {\n",
       "        text-align: right;\n",
       "    }\n",
       "</style>\n",
       "<table border=\"1\" class=\"dataframe\">\n",
       "  <thead>\n",
       "    <tr style=\"text-align: right;\">\n",
       "      <th></th>\n",
       "      <th>id</th>\n",
       "      <th>Gender</th>\n",
       "      <th>Customer Type</th>\n",
       "      <th>Age</th>\n",
       "      <th>Type of Travel</th>\n",
       "      <th>Class</th>\n",
       "      <th>Flight Distance</th>\n",
       "      <th>Inflight wifi service</th>\n",
       "      <th>Departure/Arrival time convenient</th>\n",
       "      <th>Ease of Online booking</th>\n",
       "      <th>Gate location</th>\n",
       "      <th>Food and drink</th>\n",
       "      <th>Online boarding</th>\n",
       "      <th>Seat comfort</th>\n",
       "      <th>Inflight entertainment</th>\n",
       "      <th>On-board service</th>\n",
       "      <th>Leg room service</th>\n",
       "      <th>Baggage handling</th>\n",
       "      <th>Checkin service</th>\n",
       "      <th>Inflight service</th>\n",
       "      <th>Cleanliness</th>\n",
       "      <th>Departure Delay in Minutes</th>\n",
       "      <th>Arrival Delay in Minutes</th>\n",
       "      <th>satisfaction</th>\n",
       "      <th>Departure_Delay_Category</th>\n",
       "      <th>Arrival_Delay_Category</th>\n",
       "    </tr>\n",
       "  </thead>\n",
       "  <tbody>\n",
       "    <tr>\n",
       "      <th>0</th>\n",
       "      <td>19556</td>\n",
       "      <td>Female</td>\n",
       "      <td>Loyal Customer</td>\n",
       "      <td>52</td>\n",
       "      <td>Business travel</td>\n",
       "      <td>Eco</td>\n",
       "      <td>160</td>\n",
       "      <td>5</td>\n",
       "      <td>4</td>\n",
       "      <td>3</td>\n",
       "      <td>4</td>\n",
       "      <td>3</td>\n",
       "      <td>4</td>\n",
       "      <td>3</td>\n",
       "      <td>5</td>\n",
       "      <td>5</td>\n",
       "      <td>5</td>\n",
       "      <td>5</td>\n",
       "      <td>2</td>\n",
       "      <td>5</td>\n",
       "      <td>5</td>\n",
       "      <td>50</td>\n",
       "      <td>44.0</td>\n",
       "      <td>satisfied</td>\n",
       "      <td>Long Delay (&gt;30 min)</td>\n",
       "      <td>Long Delay (&gt;30 min)</td>\n",
       "    </tr>\n",
       "    <tr>\n",
       "      <th>1</th>\n",
       "      <td>90035</td>\n",
       "      <td>Female</td>\n",
       "      <td>Loyal Customer</td>\n",
       "      <td>36</td>\n",
       "      <td>Business travel</td>\n",
       "      <td>Business</td>\n",
       "      <td>2863</td>\n",
       "      <td>1</td>\n",
       "      <td>1</td>\n",
       "      <td>3</td>\n",
       "      <td>1</td>\n",
       "      <td>5</td>\n",
       "      <td>4</td>\n",
       "      <td>5</td>\n",
       "      <td>4</td>\n",
       "      <td>4</td>\n",
       "      <td>4</td>\n",
       "      <td>4</td>\n",
       "      <td>3</td>\n",
       "      <td>4</td>\n",
       "      <td>5</td>\n",
       "      <td>0</td>\n",
       "      <td>0.0</td>\n",
       "      <td>satisfied</td>\n",
       "      <td>No Delay</td>\n",
       "      <td>No Delay</td>\n",
       "    </tr>\n",
       "    <tr>\n",
       "      <th>2</th>\n",
       "      <td>12360</td>\n",
       "      <td>Male</td>\n",
       "      <td>disloyal Customer</td>\n",
       "      <td>20</td>\n",
       "      <td>Business travel</td>\n",
       "      <td>Eco</td>\n",
       "      <td>192</td>\n",
       "      <td>2</td>\n",
       "      <td>0</td>\n",
       "      <td>2</td>\n",
       "      <td>4</td>\n",
       "      <td>2</td>\n",
       "      <td>2</td>\n",
       "      <td>2</td>\n",
       "      <td>2</td>\n",
       "      <td>4</td>\n",
       "      <td>1</td>\n",
       "      <td>3</td>\n",
       "      <td>2</td>\n",
       "      <td>2</td>\n",
       "      <td>2</td>\n",
       "      <td>0</td>\n",
       "      <td>0.0</td>\n",
       "      <td>neutral or dissatisfied</td>\n",
       "      <td>No Delay</td>\n",
       "      <td>No Delay</td>\n",
       "    </tr>\n",
       "    <tr>\n",
       "      <th>3</th>\n",
       "      <td>77959</td>\n",
       "      <td>Male</td>\n",
       "      <td>Loyal Customer</td>\n",
       "      <td>44</td>\n",
       "      <td>Business travel</td>\n",
       "      <td>Business</td>\n",
       "      <td>3377</td>\n",
       "      <td>0</td>\n",
       "      <td>0</td>\n",
       "      <td>0</td>\n",
       "      <td>2</td>\n",
       "      <td>3</td>\n",
       "      <td>4</td>\n",
       "      <td>4</td>\n",
       "      <td>1</td>\n",
       "      <td>1</td>\n",
       "      <td>1</td>\n",
       "      <td>1</td>\n",
       "      <td>3</td>\n",
       "      <td>1</td>\n",
       "      <td>4</td>\n",
       "      <td>0</td>\n",
       "      <td>6.0</td>\n",
       "      <td>satisfied</td>\n",
       "      <td>No Delay</td>\n",
       "      <td>Short Delay (0-15 min)</td>\n",
       "    </tr>\n",
       "    <tr>\n",
       "      <th>4</th>\n",
       "      <td>36875</td>\n",
       "      <td>Female</td>\n",
       "      <td>Loyal Customer</td>\n",
       "      <td>49</td>\n",
       "      <td>Business travel</td>\n",
       "      <td>Eco</td>\n",
       "      <td>1182</td>\n",
       "      <td>2</td>\n",
       "      <td>3</td>\n",
       "      <td>4</td>\n",
       "      <td>3</td>\n",
       "      <td>4</td>\n",
       "      <td>1</td>\n",
       "      <td>2</td>\n",
       "      <td>2</td>\n",
       "      <td>2</td>\n",
       "      <td>2</td>\n",
       "      <td>2</td>\n",
       "      <td>4</td>\n",
       "      <td>2</td>\n",
       "      <td>4</td>\n",
       "      <td>0</td>\n",
       "      <td>20.0</td>\n",
       "      <td>satisfied</td>\n",
       "      <td>No Delay</td>\n",
       "      <td>Medium Delay (15-30 min)</td>\n",
       "    </tr>\n",
       "  </tbody>\n",
       "</table>\n",
       "</div>"
      ],
      "text/plain": [
       "      id  Gender      Customer Type  Age   Type of Travel     Class  \\\n",
       "0  19556  Female     Loyal Customer   52  Business travel       Eco   \n",
       "1  90035  Female     Loyal Customer   36  Business travel  Business   \n",
       "2  12360    Male  disloyal Customer   20  Business travel       Eco   \n",
       "3  77959    Male     Loyal Customer   44  Business travel  Business   \n",
       "4  36875  Female     Loyal Customer   49  Business travel       Eco   \n",
       "\n",
       "   Flight Distance  Inflight wifi service  Departure/Arrival time convenient  \\\n",
       "0              160                      5                                  4   \n",
       "1             2863                      1                                  1   \n",
       "2              192                      2                                  0   \n",
       "3             3377                      0                                  0   \n",
       "4             1182                      2                                  3   \n",
       "\n",
       "   Ease of Online booking  Gate location  Food and drink  Online boarding  \\\n",
       "0                       3              4               3                4   \n",
       "1                       3              1               5                4   \n",
       "2                       2              4               2                2   \n",
       "3                       0              2               3                4   \n",
       "4                       4              3               4                1   \n",
       "\n",
       "   Seat comfort  Inflight entertainment  On-board service  Leg room service  \\\n",
       "0             3                       5                 5                 5   \n",
       "1             5                       4                 4                 4   \n",
       "2             2                       2                 4                 1   \n",
       "3             4                       1                 1                 1   \n",
       "4             2                       2                 2                 2   \n",
       "\n",
       "   Baggage handling  Checkin service  Inflight service  Cleanliness  \\\n",
       "0                 5                2                 5            5   \n",
       "1                 4                3                 4            5   \n",
       "2                 3                2                 2            2   \n",
       "3                 1                3                 1            4   \n",
       "4                 2                4                 2            4   \n",
       "\n",
       "   Departure Delay in Minutes  Arrival Delay in Minutes  \\\n",
       "0                          50                      44.0   \n",
       "1                           0                       0.0   \n",
       "2                           0                       0.0   \n",
       "3                           0                       6.0   \n",
       "4                           0                      20.0   \n",
       "\n",
       "              satisfaction Departure_Delay_Category    Arrival_Delay_Category  \n",
       "0                satisfied     Long Delay (>30 min)      Long Delay (>30 min)  \n",
       "1                satisfied                 No Delay                  No Delay  \n",
       "2  neutral or dissatisfied                 No Delay                  No Delay  \n",
       "3                satisfied                 No Delay    Short Delay (0-15 min)  \n",
       "4                satisfied                 No Delay  Medium Delay (15-30 min)  "
      ]
     },
     "execution_count": 65,
     "metadata": {},
     "output_type": "execute_result"
    }
   ],
   "source": [
    "df_airlines_clean.head()"
   ]
  },
  {
   "cell_type": "markdown",
   "metadata": {},
   "source": [
    "```\n",
    "Insight: di drop kolom 'unnamed 0' karena gadibutuhkan\n",
    "```"
   ]
  },
  {
   "cell_type": "code",
   "execution_count": 66,
   "metadata": {},
   "outputs": [],
   "source": [
    "df_airlines_clean.to_csv('maskapai1.csv', index = False)"
   ]
  },
  {
   "cell_type": "markdown",
   "metadata": {},
   "source": [
    "# 5. Analisis dan Perhitungan"
   ]
  },
  {
   "cell_type": "markdown",
   "metadata": {},
   "source": [
    "## 5.1 Perhitungan statistik deskriptif\n"
   ]
  },
  {
   "cell_type": "markdown",
   "metadata": {},
   "source": [
    "### 1. Berapa presentase kepuasan pelanggan berdasarkan tipe customer? "
   ]
  },
  {
   "cell_type": "code",
   "execution_count": 40,
   "metadata": {},
   "outputs": [
    {
     "name": "stdout",
     "output_type": "stream",
     "text": [
      "satisfaction       neutral or dissatisfied  satisfied\n",
      "Customer Type                                        \n",
      "Loyal Customer                   51.858148  48.141852\n",
      "disloyal Customer                74.828089  25.171911\n"
     ]
    }
   ],
   "source": [
    "# Menghitung persentase kepuasan berdasarkan Customer Type\n",
    "satisfaction_by_customer_type = df_airlines.groupby('Customer Type')['satisfaction'].value_counts(normalize=True).unstack()\n",
    "satisfaction_by_customer_type *= 100  # Mengubah ke dalam bentuk persen\n",
    "print(satisfaction_by_customer_type)"
   ]
  },
  {
   "cell_type": "markdown",
   "metadata": {},
   "source": [
    "```\n",
    "Insight: kode ini bertujuan untuk melakukan perhitungan persentase kepuasan pelanggan berdasarkan pelanggan(customer type). Dari hasil ini akan mendapatkan pandangan yang lebih mendalam mengenai bagaimana tingkat kepuasan pelanggan bervariasi berdasarkan jenis pelanggan, selain itu analisis ini dapat membantu dalam pengambilan keputusan strategis, seperti meningkatkan layanan kategori pelanggan tertentu yang memiliki tingkat ketidakpuasan yang lebih tinggi\n",
    "```"
   ]
  },
  {
   "cell_type": "code",
   "execution_count": 41,
   "metadata": {},
   "outputs": [
    {
     "data": {
      "image/png": "[encoded data removed]",
      "text/plain": [
       "<Figure size 1500x600 with 2 Axes>"
      ]
     },
     "metadata": {},
     "output_type": "display_data"
    }
   ],
   "source": [
    "# Visualisasi dengan pie charts\n",
    "fig, (ax1, ax2) = plt.subplots(1, 2, figsize=(15, 6))\n",
    "\n",
    "# Pie chart untuk Loyal Customer\n",
    "satisfaction_by_customer_type.loc['Loyal Customer'].plot(kind='pie', autopct='%1.1f%%', ax=ax1)\n",
    "ax1.set_title('Kepuasan Loyal Customer')\n",
    "\n",
    "# Pie chart untuk disloyal Customer\n",
    "satisfaction_by_customer_type.loc['disloyal Customer'].plot(kind='pie', autopct='%1.1f%%', ax=ax2)\n",
    "ax2.set_title('Kepuasan Disloyal Customer')\n",
    "\n",
    "plt.tight_layout()\n",
    "plt.show()"
   ]
  },
  {
   "cell_type": "code",
   "execution_count": 26,
   "metadata": {},
   "outputs": [
    {
     "name": "stdout",
     "output_type": "stream",
     "text": [
      "satisfaction       neutral or dissatisfied  satisfied\n",
      "Customer Type                                        \n",
      "Loyal Customer                   51.858148  48.141852\n",
      "disloyal Customer                74.828089  25.171911\n"
     ]
    }
   ],
   "source": [
    "# Menghitung persentase kepuasan berdasarkan Customer Type\n",
    "satisfaction_by_customer_type = df_airlines.groupby('Customer Type')['satisfaction'].value_counts(normalize=True).unstack()\n",
    "satisfaction_by_customer_type *= 100  # Mengubah ke dalam bentuk persen\n",
    "\n",
    "print(satisfaction_by_customer_type)"
   ]
  },
  {
   "cell_type": "markdown",
   "metadata": {},
   "source": [
    "```\n",
    "Insight:Fokus Peningkatan Pelanggan Loyal: Ada peluang besar untuk meningkatkan kepuasan di kalangan pelanggan loyal, karena hampir setengah dari mereka masih merasa netral atau tidak puas. Ini bisa dilakukan melalui peningkatan kualitas layanan atau insentif tambahan untuk menjaga loyalitas mereka. \n",
    "\n",
    "Peluang Retensi Pelanggan Tidak Loyal: Sebagian besar pelanggan yang tidak loyal merasa tidak puas. Oleh karena itu, untuk memperbaiki retensi dan mengubah mereka menjadi pelanggan loyal, fokus perlu diberikan pada perbaikan layanan atau produk yang sesuai dengan kebutuhan mereka, serta strategi engagement yang lebih efektif\n",
    "```"
   ]
  },
  {
   "cell_type": "markdown",
   "metadata": {},
   "source": [
    "## 5.2 Perhitungan statistik inferensial"
   ]
  },
  {
   "cell_type": "markdown",
   "metadata": {},
   "source": [
    "### 1. Apakah ada pengaruh kepuasan pelanggan terhadap kelas penumpang?"
   ]
  },
  {
   "cell_type": "code",
   "execution_count": 36,
   "metadata": {},
   "outputs": [
    {
     "name": "stdout",
     "output_type": "stream",
     "text": [
      "Ada hubungan antara class dan satisfaction\n"
     ]
    }
   ],
   "source": [
    "# Perhitungan kendall tau membandingkan class dan satisfaction\n",
    "corr_tau, pval_k = stats.kendalltau(df_airlines['Class'], df_airlines['satisfaction'])\n",
    "if pval_k < 0.05:\n",
    "    print(\"Ada hubungan antara class dan satisfaction\")\n",
    "else:\n",
    "    print(\"Tidak ada hubungan antara class dan satiscaftion\")\n",
    "#print(f\"tau-correlation: {corr_tau:.2f}, p-value: {pval_k:.2f}\")"
   ]
  },
  {
   "cell_type": "markdown",
   "metadata": {},
   "source": [
    "```\n",
    "Analisis: Perhitungan korelasi antara class dan kepuasan pelanggan menggunakan kendall tau, dikarenakan yang di dikorelasikan adalah numerikal kontinus. Dengan penolakan H0 ditolak maka kesimpulan H1. \n",
    "\n",
    "Insight: Ditemukan hubungan yang signifikan sehingga dapat disimpulkan class adalah faktor yang mempengaruhi kepuasan pelanggan\n",
    "```"
   ]
  },
  {
   "cell_type": "code",
   "execution_count": null,
   "metadata": {},
   "outputs": [],
   "source": []
  },
  {
   "cell_type": "markdown",
   "metadata": {},
   "source": [
    "### 2. Apakah faktor inflight service mempengaruhi kepuasan?"
   ]
  },
  {
   "cell_type": "code",
   "execution_count": 49,
   "metadata": {},
   "outputs": [
    {
     "name": "stdout",
     "output_type": "stream",
     "text": [
      "Ada hubungan antara Inflight service dan satisfaction\n"
     ]
    }
   ],
   "source": [
    "corr_tau, pval_k = stats.kendalltau(df_airlines['Inflight service'], df_airlines['satisfaction'])\n",
    "if pval_k < 0.05:\n",
    "    print(\"Ada hubungan antara Inflight service dan satisfaction\")\n",
    "else:\n",
    "    print(\"Tidak ada hubungan antara Inflight service dan satiscaftion\")\n",
    "# print(f\"tau-correlation: {corr_tau:.2f}, p-value: {pval_k:.2f}\")"
   ]
  },
  {
   "cell_type": "markdown",
   "metadata": {},
   "source": [
    "```\n",
    "Analisis: Perhitungan korelasi antara inflight service dan kepuasan pelanggan menggunakan kendall tau, dikarenakan yang di dikorelasikan adalah numerikal kontinus. Dengan penolakan H0 ditolak maka kesimpulan H1 \n",
    "\n",
    "Insight: Ditemukan hubungan yang signifikan sehingga dapat disimpulkan inflight service adalah faktor yang mempengaruhi kepuasan pelanggan \n",
    "```"
   ]
  },
  {
   "cell_type": "markdown",
   "metadata": {},
   "source": [
    "### 3. Apakah faktor food and drink mempengaruhi kepuasan?"
   ]
  },
  {
   "cell_type": "code",
   "execution_count": 38,
   "metadata": {},
   "outputs": [
    {
     "name": "stdout",
     "output_type": "stream",
     "text": [
      "Ada hubungan antara Food and drink dan satisfaction\n"
     ]
    }
   ],
   "source": [
    "corr_tau, pval_k = stats.kendalltau(df_airlines['Food and drink'], df_airlines['satisfaction'])\n",
    "if pval_k < 0.05:\n",
    "    print(\"Ada hubungan antara Food and drink dan satisfaction\")\n",
    "else:\n",
    "    print(\"Tidak ada hubungan antara Food and drink dan satiscaftion\")\n",
    "#print(f\"tau-correlation: {corr_tau:.2f}, p-value: {pval_k:.2f}\")"
   ]
  },
  {
   "cell_type": "markdown",
   "metadata": {},
   "source": [
    "```\n",
    "Analisis: Perhitungan korelasi antara food and drink dan kepuasan pelanggan menggunakan kendall tau, dikarenakan yang di dikorelasikan adalah numerikal kontinus. Dengan penolakan H0 ditolak maka kesimpulan H1 \n",
    "\n",
    "Insight:Ditemukan hubungan yang signifikan sehingga dapat disimpulkan food and drink adalah faktor yang mempengaruhi kepuasan pelanggan \n",
    "```"
   ]
  },
  {
   "cell_type": "markdown",
   "metadata": {},
   "source": [
    "### 4. Apakah faktor keterlambatan keberangkatan terhadap kepuasan mempengaruhi kepuasaan?"
   ]
  },
  {
   "cell_type": "code",
   "execution_count": 39,
   "metadata": {},
   "outputs": [
    {
     "name": "stdout",
     "output_type": "stream",
     "text": [
      "Ada hubungan antara Departure Delay in Minutes dan satisfaction\n"
     ]
    }
   ],
   "source": [
    "\n",
    "corr_tau, pval_k = stats.kendalltau(df_airlines['Departure Delay in Minutes'], df_airlines['satisfaction'])\n",
    "if pval_k < 0.05:\n",
    "    print(\"Ada hubungan antara Departure Delay in Minutes dan satisfaction\")\n",
    "else:\n",
    "    print(\"Tidak ada hubungan antara Departure Delay in Minutes dan satiscaftion\")\n",
    "#print(f\"tau-correlation: {corr_tau:.2f}, p-value: {pval_k:.2f}\")"
   ]
  },
  {
   "cell_type": "markdown",
   "metadata": {},
   "source": [
    "```\n",
    "Analisis: Perhitungan korelasi antara Departure Delay in Minutes dan kepuasan pelanggan menggunakan kendall tau, dikarenakan yang di dikorelasikan adalah numerikal kontinus. Dengan penolakan H0 ditolak maka kesimpulan H1 \n",
    "\n",
    "Insight: Ditemukan hubungan yang signifikan sehingga dapat disimpulkan Departure Delay in Minutese adalah faktor yang mempengaruhi kepuasan pelanggan \n",
    "```"
   ]
  },
  {
   "cell_type": "code",
   "execution_count": 50,
   "metadata": {},
   "outputs": [
    {
     "data": {
      "text/plain": [
       "6.994085509802925"
      ]
     },
     "execution_count": 50,
     "metadata": {},
     "output_type": "execute_result"
    }
   ],
   "source": [
    "df_airlines['Arrival Delay in Minutes'].skew()"
   ]
  },
  {
   "cell_type": "markdown",
   "metadata": {},
   "source": [
    "```\n",
    "Dari hasil sekwness melebihi 0 dapat dikatakan data terdistribusi ke arah kanan. Ini berarti bahwa sebagian besar penerbangan memiliki keterlambatan kedatangan yang kecil, tetapi ada beberapa penerbangan dengan keterlambatan yang sangat tinggi (outlier di sebelah kanan).\n",
    "```"
   ]
  },
  {
   "cell_type": "markdown",
   "metadata": {},
   "source": [
    "## 5.3 Analisis"
   ]
  },
  {
   "cell_type": "markdown",
   "metadata": {},
   "source": [
    "### 1. Berapa tingkat kepuasan antara pelanggan di setiap kelas?"
   ]
  },
  {
   "cell_type": "code",
   "execution_count": 53,
   "metadata": {},
   "outputs": [
    {
     "name": "stdout",
     "output_type": "stream",
     "text": [
      "      Class             satisfaction  Count\n",
      "0  Business  neutral or dissatisfied   3809\n",
      "1  Business                satisfied   8686\n",
      "2       Eco  neutral or dissatisfied   9322\n",
      "3       Eco                satisfied   2242\n",
      "4  Eco Plus  neutral or dissatisfied   1442\n",
      "5  Eco Plus                satisfied    475\n"
     ]
    }
   ],
   "source": [
    "# Menghitung jumlah penumpang berdasarkan kelas penerbangan dan kepuasan\n",
    "hasil_perhitungan = df_airlines.groupby(['Class', 'satisfaction']).size().reset_index(name='Count')\n",
    "\n",
    "# Menampilkan hasil\n",
    "print(hasil_perhitungan)"
   ]
  },
  {
   "cell_type": "code",
   "execution_count": 52,
   "metadata": {},
   "outputs": [
    {
     "data": {
      "image/png": "[encoded data removed]",
      "text/plain": [
       "<Figure size 800x600 with 1 Axes>"
      ]
     },
     "metadata": {},
     "output_type": "display_data"
    }
   ],
   "source": [
    "\n",
    "# Membuat plot tingkat kepuasan berdasarkan kelas penerbangan\n",
    "plt.figure(figsize=(8, 6))\n",
    "sns.countplot(data=df_airlines, x='Class', hue='satisfaction')\n",
    "plt.title('Tingkat Kepuasan Berdasarkan Kelas Penerbangan')\n",
    "plt.xlabel('Class')\n",
    "plt.ylabel('Count kepuasan')\n",
    "plt.legend(title='Satisfaction')\n",
    "plt.show()\n"
   ]
  },
  {
   "cell_type": "markdown",
   "metadata": {},
   "source": [
    "```\n",
    "1. Tingkat Kepuasan Berdasarkan Kelas Penerbangan:\n",
    "Business Class:\n",
    "3,809 penumpang di kelas Business merasa neutral or dissatisfied.\n",
    "8,686 penumpang di kelas Business merasa satisfied.\n",
    "Insight: Mayoritas penumpang di kelas Business lebih puas, dengan rasio puas yang jauh lebih tinggi daripada yang merasa tidak puas. Hal ini menunjukkan bahwa kelas Business memberikan layanan yang lebih baik dan lebih mampu memenuhi harapan penumpang dibandingkan kelas lainnya.\n",
    "\n",
    "Economy Class:\n",
    "9,322 penumpang di kelas Economy merasa neutral or dissatisfied.\n",
    "2,242 penumpang di kelas Economy merasa satisfied.\n",
    "Insight: Sebagian besar penumpang di kelas Economy merasa tidak puas. Rasio antara penumpang yang tidak puas dibandingkan dengan yang puas cukup tinggi, menunjukkan bahwa kelas Economy memiliki tingkat kepuasan yang rendah dibandingkan kelas lainnya, kemungkinan karena keterbatasan kenyamanan atau layanan yang disediakan.\n",
    "\n",
    "Economy Plus:\n",
    "1,442 penumpang di kelas Economy Plus merasa neutral or dissatisfied.\n",
    "475 penumpang di kelas Economy Plus merasa satisfied.\n",
    "Insight: Kelas Economy Plus juga memiliki lebih banyak penumpang yang merasa tidak puas. Meskipun menawarkan sedikit lebih banyak kenyamanan dibandingkan kelas Economy, masih ada lebih banyak penumpang yang tidak puas dibandingkan yang puas.\n",
    "\n",
    "2. Perbandingan Kepuasan Antar Kelas:\n",
    "Business Class memiliki jumlah penumpang yang puas jauh lebih besar dibandingkan yang tidak puas, dengan rasio kepuasan lebih tinggi dibandingkan kelas lain.\n",
    "Economy Class memiliki rasio ketidakpuasan tertinggi, dengan lebih dari 80% penumpang merasa tidak puas.\n",
    "Economy Plus, meskipun menawarkan layanan yang lebih baik daripada kelas Economy, masih memiliki lebih banyak penumpang yang tidak puas daripada yang puas.\n",
    "\n",
    "Kesimpulan:\n",
    "Kelas penerbangan sangat mempengaruhi kepuasan penumpang. Business Class cenderung memberikan pengalaman yang jauh lebih memuaskan bagi penumpang dibandingkan kelas lain.\n",
    "Economy Class memiliki tingkat ketidakpuasan tertinggi, mungkin karena layanan yang lebih terbatas dibandingkan kelas lainnya. Maskapai dapat memfokuskan perbaikan pada kelas Economy untuk meningkatkan kepuasan.\n",
    "Economy Plus, meskipun memberikan peningkatan dibandingkan Economy biasa, masih belum cukup untuk membuat sebagian besar penumpang merasa puas. Peningkatan lebih lanjut mungkin diperlukan untuk membuat layanan ini lebih kompetitif.\n",
    "\n",
    "Potensi tindakan:\n",
    "Economy memerlukan perhatian lebih dalam meningkatkan pengalaman penumpang.\n",
    "```"
   ]
  },
  {
   "cell_type": "markdown",
   "metadata": {},
   "source": [
    "### 2. Mengetahui layanan service yang perlu ditingkatkan "
   ]
  },
  {
   "cell_type": "code",
   "execution_count": 43,
   "metadata": {},
   "outputs": [
    {
     "name": "stdout",
     "output_type": "stream",
     "text": [
      "                         Inflight wifi service  Seat comfort  Food and drink  \\\n",
      "satisfaction                                                                   \n",
      "neutral or dissatisfied               2.393536      3.044878        2.959926   \n",
      "satisfied                             3.148031      3.965974        3.541787   \n",
      "\n",
      "                         Inflight entertainment  Leg room service  \n",
      "satisfaction                                                       \n",
      "neutral or dissatisfied                2.885473          2.988952  \n",
      "satisfied                              3.961326          3.811804  \n"
     ]
    }
   ],
   "source": [
    "# Menghitung rata-rata penilaian layanan untuk setiap tingkat kepuasan\n",
    "service_columns = ['Inflight wifi service', 'Seat comfort', 'Food and drink', 'Inflight entertainment', 'Leg room service']\n",
    "average_service_ratings = df_airlines.groupby('satisfaction')[service_columns].mean()\n",
    "print(average_service_ratings)"
   ]
  },
  {
   "cell_type": "code",
   "execution_count": 44,
   "metadata": {},
   "outputs": [
    {
     "data": {
      "image/png": "[encoded data removed]",
      "text/plain": [
       "<Figure size 1200x600 with 1 Axes>"
      ]
     },
     "metadata": {},
     "output_type": "display_data"
    }
   ],
   "source": [
    "import matplotlib.pyplot as plt\n",
    "\n",
    "# Mmembuat plot\n",
    "ax = average_service_ratings.plot(kind='bar', figsize=(12, 6))\n",
    "plt.title('Average Service Ratings by Satisfaction Level')\n",
    "plt.xlabel('Satisfaction')\n",
    "plt.ylabel('Average Rating')\n",
    "plt.legend(title='Service Categories')\n",
    "plt.xticks(rotation=45)\n",
    "plt.tight_layout()\n",
    "plt.show()"
   ]
  },
  {
   "cell_type": "markdown",
   "metadata": {},
   "source": [
    "```\n",
    "Insight Utama:\n",
    "Inflight Wi-Fi Service:\n",
    "Penumpang yang puas memberikan rata-rata skor 3.15, sedangkan yang netral atau tidak puas memberikan skor lebih rendah, yaitu 2.39.\n",
    "Ini menunjukkan bahwa layanan Wi-Fi berkontribusi cukup signifikan terhadap kepuasan. Peningkatan kualitas Wi-Fi dapat menjadi area perbaikan untuk meningkatkan kepuasan pelanggan yang merasa kurang puas.\n",
    "\n",
    "Seat Comfort:\n",
    "Penumpang yang puas memberikan skor 3.97, sementara yang netral atau tidak puas memberikan skor 3.04.\n",
    "Kenyamanan kursi merupakan salah satu aspek yang paling signifikan dalam membedakan tingkat kepuasan. Pelanggan yang puas cenderung merasa kursi jauh lebih nyaman dibandingkan mereka yang tidak puas.\n",
    "\n",
    "Food and Drink:\n",
    "Penumpang yang puas memberikan skor 3.54, sedangkan penumpang yang netral atau tidak puas memberikan skor 2.96.\n",
    "Perbedaan skor ini menunjukkan bahwa kualitas makanan dan minuman memiliki dampak moderat pada kepuasan. Meningkatkan kualitas atau variasi makanan dapat meningkatkan pengalaman penumpang.\n",
    "\n",
    "Inflight Entertainment:\n",
    "Penumpang yang puas memberikan skor 3.96, sementara penumpang yang netral atau tidak puas hanya memberikan skor 2.88.\n",
    "Hiburan dalam penerbangan tampaknya memainkan peran penting dalam memengaruhi kepuasan pelanggan. Penumpang yang puas cenderung lebih menghargai kualitas atau variasi hiburan yang tersedia.\n",
    "\n",
    "Leg Room Service:\n",
    "Penumpang yang puas memberikan skor 3.81, sedangkan yang tidak puas atau netral memberikan skor 2.99. Ruang kaki juga merupakan faktor yang sangat penting dalam mempengaruhi kepuasan. Perbedaan skor ini menunjukkan bahwa penumpang yang puas merasakan ruang kaki yang lebih nyaman.\n",
    "\n",
    "Kesimpulan:\n",
    "Layanan yang Paling Berpengaruh: Layanan dengan perbedaan skor terbesar antara penumpang yang puas dan tidak puas adalah kenyamanan kursi dan hiburan dalam penerbangan. Ini menunjukkan bahwa penumpang yang puas merasa kursi lebih nyaman dan hiburan lebih memadai dibandingkan mereka yang tidak puas. Peningkatan di area ini dapat membawa perbaikan signifikan pada tingkat kepuasan secara keseluruhan.\n",
    "\n",
    "Layanan dengan Pengaruh Sedang: Makanan dan minuman, serta ruang kaki, memiliki perbedaan yang cukup signifikan dalam penilaian, tetapi dampaknya sedikit lebih rendah dibandingkan dengan kursi dan hiburan.\n",
    "\n",
    "Layanan Wi-Fi Perlu Peningkatan: Meskipun Wi-Fi dalam penerbangan mendapatkan skor lebih tinggi dari penumpang yang puas, perbedaannya tidak sebesar layanan lainnya. Peningkatan kualitas Wi-Fi dapat meningkatkan kepuasan penumpang yang kurang puas atau netral.\n",
    "\n",
    "Potensi tindakan:\n",
    "Aspek-aspek seperti kenyamanan kursi, hiburan dalam penerbangan, dan ruang kaki memainkan peran penting dalam memengaruhi kepuasan pelanggan. Maskapai dapat memfokuskan peningkatan di area ini untuk meningkatkan pengalaman penumpang secara keseluruhan. Di sisi lain, layanan Wi-Fi juga perlu diperhatikan, terutama karena penumpang yang tidak puas memberikan skor rendah di area ini. Peningkatan layanan ini dapat memberikan dampak positif yang signifikan terhadap kepuasan pelanggan secara keseluruhan.\n",
    "```"
   ]
  },
  {
   "cell_type": "markdown",
   "metadata": {},
   "source": [
    "### 3. Jenis penundaan mana (keberangkatan vs kedatangan) yang memiliki pengaruh lebih kuat terhadap kepuasan"
   ]
  },
  {
   "cell_type": "code",
   "execution_count": 45,
   "metadata": {},
   "outputs": [
    {
     "data": {
      "image/png": "[encoded data removed]",
      "text/plain": [
       "<Figure size 1500x600 with 2 Axes>"
      ]
     },
     "metadata": {},
     "output_type": "display_data"
    },
    {
     "name": "stdout",
     "output_type": "stream",
     "text": [
      "\n",
      "Satisfaction rates by Departure Delay Category:\n",
      "Departure_Delay_Category\n",
      "Long Delay (>30 min)        0.365\n",
      "Medium Delay (15-30 min)    0.392\n",
      "No Delay                    0.467\n",
      "Short Delay (0-15 min)      0.431\n",
      "Name: satisfied, dtype: float64\n",
      "\n",
      "Satisfaction rates by Arrival Delay Category:\n",
      "Arrival_Delay_Category\n",
      "Long Delay (>30 min)        0.364\n",
      "Medium Delay (15-30 min)    0.376\n",
      "No Delay                    0.479\n",
      "Short Delay (0-15 min)      0.407\n",
      "Name: satisfied, dtype: float64\n"
     ]
    }
   ],
   "source": [
    "\n",
    "# Menghitung delay analisis \n",
    "delay_analysis = df_airlines.groupby('satisfaction')[['Departure Delay in Minutes', 'Arrival Delay in Minutes']].mean()\n",
    "\n",
    "# Membuat function delay kategori dan kepuasan rates \n",
    "def categorize_delay(minutes):\n",
    "    if minutes <= 0:\n",
    "        return 'No Delay'\n",
    "    elif minutes <= 15:\n",
    "        return 'Short Delay (0-15 min)'\n",
    "    elif minutes <= 30:\n",
    "        return 'Medium Delay (15-30 min)'\n",
    "    else:\n",
    "        return 'Long Delay (>30 min)'\n",
    "\n",
    "# Membuat delay kategori\n",
    "df_airlines['Departure_Delay_Category'] = df_airlines['Departure Delay in Minutes'].apply(categorize_delay)\n",
    "df_airlines['Arrival_Delay_Category'] = df_airlines['Arrival Delay in Minutes'].apply(categorize_delay)\n",
    "\n",
    "# Menghitung kepuasan rates by delay kategori\n",
    "departure_satisfaction = df_airlines.groupby('Departure_Delay_Category')['satisfaction'].value_counts(normalize=True).unstack()\n",
    "arrival_satisfaction = df_airlines.groupby('Arrival_Delay_Category')['satisfaction'].value_counts(normalize=True).unstack()\n",
    "\n",
    "# Kepuasan rates by delay kategori\n",
    "fig, (ax1, ax2) = plt.subplots(1, 2, figsize=(15, 6))\n",
    "\n",
    "departure_satisfaction['satisfied'].plot(kind='bar', ax=ax1)\n",
    "ax1.set_title('Satisfaction Rate by Departure Delay Category')\n",
    "ax1.set_ylabel('Proportion of Satisfied Passengers')\n",
    "ax1.tick_params(axis='x', rotation=45)\n",
    "\n",
    "arrival_satisfaction['satisfied'].plot(kind='bar', ax=ax2)\n",
    "ax2.set_title('Satisfaction Rate by Arrival Delay Category')\n",
    "ax2.set_ylabel('Proportion of Satisfied Passengers')\n",
    "ax2.tick_params(axis='x', rotation=45)\n",
    "\n",
    "plt.tight_layout()\n",
    "plt.show()\n",
    "\n",
    "print(\"\\nSatisfaction rates by Departure Delay Category:\")\n",
    "print(departure_satisfaction['satisfied'].round(3))\n",
    "print(\"\\nSatisfaction rates by Arrival Delay Category:\")\n",
    "print(arrival_satisfaction['satisfied'].round(3))"
   ]
  },
  {
   "cell_type": "markdown",
   "metadata": {},
   "source": []
  },
  {
   "cell_type": "code",
   "execution_count": null,
   "metadata": {},
   "outputs": [
    {
     "data": {
      "text/html": [
       "<div>\n",
       "<style scoped>\n",
       "    .dataframe tbody tr th:only-of-type {\n",
       "        vertical-align: middle;\n",
       "    }\n",
       "\n",
       "    .dataframe tbody tr th {\n",
       "        vertical-align: top;\n",
       "    }\n",
       "\n",
       "    .dataframe thead th {\n",
       "        text-align: right;\n",
       "    }\n",
       "</style>\n",
       "<table border=\"1\" class=\"dataframe\">\n",
       "  <thead>\n",
       "    <tr style=\"text-align: right;\">\n",
       "      <th></th>\n",
       "      <th>Unnamed: 0</th>\n",
       "      <th>id</th>\n",
       "      <th>Gender</th>\n",
       "      <th>Customer Type</th>\n",
       "      <th>Age</th>\n",
       "      <th>Type of Travel</th>\n",
       "      <th>Class</th>\n",
       "      <th>Flight Distance</th>\n",
       "      <th>Inflight wifi service</th>\n",
       "      <th>Departure/Arrival time convenient</th>\n",
       "      <th>Ease of Online booking</th>\n",
       "      <th>Gate location</th>\n",
       "      <th>Food and drink</th>\n",
       "      <th>Online boarding</th>\n",
       "      <th>Seat comfort</th>\n",
       "      <th>Inflight entertainment</th>\n",
       "      <th>On-board service</th>\n",
       "      <th>Leg room service</th>\n",
       "      <th>Baggage handling</th>\n",
       "      <th>Checkin service</th>\n",
       "      <th>Inflight service</th>\n",
       "      <th>Cleanliness</th>\n",
       "      <th>Departure Delay in Minutes</th>\n",
       "      <th>Arrival Delay in Minutes</th>\n",
       "      <th>satisfaction</th>\n",
       "      <th>Departure_Delay_Category</th>\n",
       "      <th>Arrival_Delay_Category</th>\n",
       "    </tr>\n",
       "  </thead>\n",
       "  <tbody>\n",
       "    <tr>\n",
       "      <th>0</th>\n",
       "      <td>0</td>\n",
       "      <td>19556</td>\n",
       "      <td>Female</td>\n",
       "      <td>Loyal Customer</td>\n",
       "      <td>52</td>\n",
       "      <td>Business travel</td>\n",
       "      <td>Eco</td>\n",
       "      <td>160</td>\n",
       "      <td>5</td>\n",
       "      <td>4</td>\n",
       "      <td>3</td>\n",
       "      <td>4</td>\n",
       "      <td>3</td>\n",
       "      <td>4</td>\n",
       "      <td>3</td>\n",
       "      <td>5</td>\n",
       "      <td>5</td>\n",
       "      <td>5</td>\n",
       "      <td>5</td>\n",
       "      <td>2</td>\n",
       "      <td>5</td>\n",
       "      <td>5</td>\n",
       "      <td>50</td>\n",
       "      <td>44.0</td>\n",
       "      <td>satisfied</td>\n",
       "      <td>Long Delay (&gt;30 min)</td>\n",
       "      <td>Long Delay (&gt;30 min)</td>\n",
       "    </tr>\n",
       "    <tr>\n",
       "      <th>1</th>\n",
       "      <td>1</td>\n",
       "      <td>90035</td>\n",
       "      <td>Female</td>\n",
       "      <td>Loyal Customer</td>\n",
       "      <td>36</td>\n",
       "      <td>Business travel</td>\n",
       "      <td>Business</td>\n",
       "      <td>2863</td>\n",
       "      <td>1</td>\n",
       "      <td>1</td>\n",
       "      <td>3</td>\n",
       "      <td>1</td>\n",
       "      <td>5</td>\n",
       "      <td>4</td>\n",
       "      <td>5</td>\n",
       "      <td>4</td>\n",
       "      <td>4</td>\n",
       "      <td>4</td>\n",
       "      <td>4</td>\n",
       "      <td>3</td>\n",
       "      <td>4</td>\n",
       "      <td>5</td>\n",
       "      <td>0</td>\n",
       "      <td>0.0</td>\n",
       "      <td>satisfied</td>\n",
       "      <td>No Delay</td>\n",
       "      <td>No Delay</td>\n",
       "    </tr>\n",
       "    <tr>\n",
       "      <th>2</th>\n",
       "      <td>2</td>\n",
       "      <td>12360</td>\n",
       "      <td>Male</td>\n",
       "      <td>disloyal Customer</td>\n",
       "      <td>20</td>\n",
       "      <td>Business travel</td>\n",
       "      <td>Eco</td>\n",
       "      <td>192</td>\n",
       "      <td>2</td>\n",
       "      <td>0</td>\n",
       "      <td>2</td>\n",
       "      <td>4</td>\n",
       "      <td>2</td>\n",
       "      <td>2</td>\n",
       "      <td>2</td>\n",
       "      <td>2</td>\n",
       "      <td>4</td>\n",
       "      <td>1</td>\n",
       "      <td>3</td>\n",
       "      <td>2</td>\n",
       "      <td>2</td>\n",
       "      <td>2</td>\n",
       "      <td>0</td>\n",
       "      <td>0.0</td>\n",
       "      <td>neutral or dissatisfied</td>\n",
       "      <td>No Delay</td>\n",
       "      <td>No Delay</td>\n",
       "    </tr>\n",
       "    <tr>\n",
       "      <th>3</th>\n",
       "      <td>3</td>\n",
       "      <td>77959</td>\n",
       "      <td>Male</td>\n",
       "      <td>Loyal Customer</td>\n",
       "      <td>44</td>\n",
       "      <td>Business travel</td>\n",
       "      <td>Business</td>\n",
       "      <td>3377</td>\n",
       "      <td>0</td>\n",
       "      <td>0</td>\n",
       "      <td>0</td>\n",
       "      <td>2</td>\n",
       "      <td>3</td>\n",
       "      <td>4</td>\n",
       "      <td>4</td>\n",
       "      <td>1</td>\n",
       "      <td>1</td>\n",
       "      <td>1</td>\n",
       "      <td>1</td>\n",
       "      <td>3</td>\n",
       "      <td>1</td>\n",
       "      <td>4</td>\n",
       "      <td>0</td>\n",
       "      <td>6.0</td>\n",
       "      <td>satisfied</td>\n",
       "      <td>No Delay</td>\n",
       "      <td>Short Delay (0-15 min)</td>\n",
       "    </tr>\n",
       "    <tr>\n",
       "      <th>4</th>\n",
       "      <td>4</td>\n",
       "      <td>36875</td>\n",
       "      <td>Female</td>\n",
       "      <td>Loyal Customer</td>\n",
       "      <td>49</td>\n",
       "      <td>Business travel</td>\n",
       "      <td>Eco</td>\n",
       "      <td>1182</td>\n",
       "      <td>2</td>\n",
       "      <td>3</td>\n",
       "      <td>4</td>\n",
       "      <td>3</td>\n",
       "      <td>4</td>\n",
       "      <td>1</td>\n",
       "      <td>2</td>\n",
       "      <td>2</td>\n",
       "      <td>2</td>\n",
       "      <td>2</td>\n",
       "      <td>2</td>\n",
       "      <td>4</td>\n",
       "      <td>2</td>\n",
       "      <td>4</td>\n",
       "      <td>0</td>\n",
       "      <td>20.0</td>\n",
       "      <td>satisfied</td>\n",
       "      <td>No Delay</td>\n",
       "      <td>Medium Delay (15-30 min)</td>\n",
       "    </tr>\n",
       "  </tbody>\n",
       "</table>\n",
       "</div>"
      ],
      "text/plain": [
       "   Unnamed: 0     id  Gender      Customer Type  Age   Type of Travel  \\\n",
       "0           0  19556  Female     Loyal Customer   52  Business travel   \n",
       "1           1  90035  Female     Loyal Customer   36  Business travel   \n",
       "2           2  12360    Male  disloyal Customer   20  Business travel   \n",
       "3           3  77959    Male     Loyal Customer   44  Business travel   \n",
       "4           4  36875  Female     Loyal Customer   49  Business travel   \n",
       "\n",
       "      Class  Flight Distance  Inflight wifi service  \\\n",
       "0       Eco              160                      5   \n",
       "1  Business             2863                      1   \n",
       "2       Eco              192                      2   \n",
       "3  Business             3377                      0   \n",
       "4       Eco             1182                      2   \n",
       "\n",
       "   Departure/Arrival time convenient  Ease of Online booking  Gate location  \\\n",
       "0                                  4                       3              4   \n",
       "1                                  1                       3              1   \n",
       "2                                  0                       2              4   \n",
       "3                                  0                       0              2   \n",
       "4                                  3                       4              3   \n",
       "\n",
       "   Food and drink  Online boarding  Seat comfort  Inflight entertainment  \\\n",
       "0               3                4             3                       5   \n",
       "1               5                4             5                       4   \n",
       "2               2                2             2                       2   \n",
       "3               3                4             4                       1   \n",
       "4               4                1             2                       2   \n",
       "\n",
       "   On-board service  Leg room service  Baggage handling  Checkin service  \\\n",
       "0                 5                 5                 5                2   \n",
       "1                 4                 4                 4                3   \n",
       "2                 4                 1                 3                2   \n",
       "3                 1                 1                 1                3   \n",
       "4                 2                 2                 2                4   \n",
       "\n",
       "   Inflight service  Cleanliness  Departure Delay in Minutes  \\\n",
       "0                 5            5                          50   \n",
       "1                 4            5                           0   \n",
       "2                 2            2                           0   \n",
       "3                 1            4                           0   \n",
       "4                 2            4                           0   \n",
       "\n",
       "   Arrival Delay in Minutes             satisfaction Departure_Delay_Category  \\\n",
       "0                      44.0                satisfied     Long Delay (>30 min)   \n",
       "1                       0.0                satisfied                 No Delay   \n",
       "2                       0.0  neutral or dissatisfied                 No Delay   \n",
       "3                       6.0                satisfied                 No Delay   \n",
       "4                      20.0                satisfied                 No Delay   \n",
       "\n",
       "     Arrival_Delay_Category  \n",
       "0      Long Delay (>30 min)  \n",
       "1                  No Delay  \n",
       "2                  No Delay  \n",
       "3    Short Delay (0-15 min)  \n",
       "4  Medium Delay (15-30 min)  "
      ]
     },
     "execution_count": 54,
     "metadata": {},
     "output_type": "execute_result"
    }
   ],
   "source": [
    "df_airlines.head()"
   ]
  },
  {
   "cell_type": "markdown",
   "metadata": {},
   "source": [
    "```\n",
    "Terdapat penambahan kolom Departure_Delay_Category untuk memberikan gambaran umum yang lebih terstruktur, sehingga memudahkan dalam mengambil keputusan manajerial berdasarkan hasil analisis tersebut.\n",
    "\n",
    "1. Insight dari Keterlambatan Keberangkatan (Departure Delay):\n",
    "Kategori keterlambatan keberangkatan:\n",
    "\n",
    "No Delay (tidak ada keterlambatan): Tingkat kepuasan tertinggi sebesar 46.7%.\n",
    "Short Delay (0-15 menit): Kepuasan mencapai 43.1%, sedikit lebih rendah dibandingkan tanpa keterlambatan.\n",
    "Medium Delay (15-30 menit): Kepuasan menurun menjadi 39.2%.\n",
    "Long Delay (>30 menit): Kepuasan terendah di angka 36.5%.\n",
    "Insight:\n",
    "\n",
    "Keterlambatan keberangkatan sangat memengaruhi kepuasan pelanggan. Semakin lama keterlambatan, semakin rendah tingkat kepuasan.\n",
    "Penumpang yang tidak mengalami keterlambatan keberangkatan cenderung paling puas (46.7%), sedangkan mereka yang mengalami keterlambatan lebih dari 30 menit memiliki tingkat kepuasan terendah (36.5%).\n",
    "Ini menunjukkan bahwa maskapai perlu memperhatikan manajemen waktu keberangkatan untuk meningkatkan kepuasan pelanggan. Mengurangi keterlambatan, terutama keterlambatan panjang, dapat meningkatkan pengalaman pelanggan.\n",
    "\n",
    "2. Insight dari Keterlambatan Kedatangan (Arrival Delay):\n",
    "Kategori keterlambatan kedatangan:\n",
    "\n",
    "No Delay (tidak ada keterlambatan): Tingkat kepuasan tertinggi sebesar 47.9%.\n",
    "Short Delay (0-15 menit): Kepuasan turun menjadi 40.7%.\n",
    "Medium Delay (15-30 menit): Kepuasan lebih rendah lagi di 37.6%.\n",
    "Long Delay (>30 menit): Kepuasan terendah di 36.4%.\n",
    "\n",
    "Kesimpulan:\n",
    "Sama seperti keberangkatan, semakin lama keterlambatan kedatangan, semakin rendah tingkat kepuasan pelanggan. Penumpang yang tidak mengalami keterlambatan kedatangan cenderung paling puas (47.9%), sedangkan mereka yang mengalami keterlambatan lebih dari 30 menit memiliki tingkat kepuasan terendah (36.4%).\n",
    "Keterlambatan yang singkat (0-15 menit) masih menunjukkan penurunan kepuasan yang signifikan dibandingkan dengan tidak ada keterlambatan, menandakan bahwa meskipun penumpang lebih toleran terhadap keterlambatan pendek, tetap ada dampak pada tingkat kepuasan.\n",
    "\n",
    "Potensi tindakan\n",
    "mengoptimalkan jadwal penerbangan untuk meminimalkan keterlambatan, terutama yang lebih dari 30 menit, guna mempertahankan atau meningkatkan tingkat kepuasan pelanggan. Kepuasan penumpang sangat sensitif terhadap keterlambatan penerbangan, baik saat keberangkatan maupun kedatangan. Semakin lama penumpang menunggu, semakin besar kemungkinan mereka merasa tidak puas.\n",
    "```"
   ]
  },
  {
   "cell_type": "markdown",
   "metadata": {},
   "source": [
    "### 4. Berapa presentase kepuasan loyal customer dan disloyal customer"
   ]
  },
  {
   "cell_type": "code",
   "execution_count": 47,
   "metadata": {},
   "outputs": [
    {
     "data": {
      "image/png": "[encoded data removed]",
      "text/plain": [
       "<Figure size 1500x600 with 2 Axes>"
      ]
     },
     "metadata": {},
     "output_type": "display_data"
    }
   ],
   "source": [
    "# Visualisasi dengan pie charts\n",
    "fig, (ax1, ax2) = plt.subplots(1, 2, figsize=(15, 6))\n",
    "\n",
    "# Pie chart untuk Loyal Customer\n",
    "satisfaction_by_customer_type.loc['Loyal Customer'].plot(kind='pie', autopct='%1.1f%%', ax=ax1)\n",
    "ax1.set_title('Kepuasan Loyal Customer')\n",
    "\n",
    "# Pie chart untuk disloyal Customer\n",
    "satisfaction_by_customer_type.loc['disloyal Customer'].plot(kind='pie', autopct='%1.1f%%', ax=ax2)\n",
    "ax2.set_title('Kepuasan Disloyal Customer')\n",
    "\n",
    "plt.tight_layout()\n",
    "plt.show()"
   ]
  },
  {
   "cell_type": "markdown",
   "metadata": {},
   "source": [
    "```\n",
    "\n",
    "1. Loyal Customer:\n",
    "51.86% dari pelanggan setia merasa neutral or dissatisfied.\n",
    "48.14% dari pelanggan setia merasa satisfied.\n",
    "\n",
    "Insight:\n",
    "Pelanggan setia memiliki distribusi kepuasan yang lebih seimbang, dengan hampir setengah dari mereka merasa puas (48.14%).\n",
    "Meski begitu, 51.86% dari pelanggan setia masih merasa tidak puas atau netral, yang menunjukkan bahwa meskipun loyalitas pelanggan tinggi, layanan maskapai masih bisa diperbaiki untuk meningkatkan kepuasan pelanggan setia.\n",
    "\n",
    "2. Disloyal Customer:\n",
    "74.83% dari pelanggan tidak setia merasa neutral or dissatisfied.\n",
    "25.17% dari pelanggan tidak setia merasa satisfied.\n",
    "\n",
    "Insight:\n",
    "Sebagian besar pelanggan yang tidak setia (74.83%) merasa tidak puas atau netral. Ini mengindikasikan bahwa pelanggan yang tidak setia lebih cenderung memiliki pengalaman yang kurang memuaskan dengan maskapai.\n",
    "Hanya 25.17% dari mereka yang merasa puas, yang menunjukkan bahwa ketidakpuasan mendominasi di antara kelompok pelanggan yang tidak setia, dan layanan yang diterima mungkin tidak memotivasi mereka untuk menjadi pelanggan setia di masa depan.\n",
    "\n",
    "Kesimpulan:\n",
    "Loyal Customer: Walaupun hampir separuh pelanggan setia merasa puas, masih ada ruang untuk peningkatan layanan untuk memaksimalkan kepuasan mereka. Pelanggan yang puas lebih mungkin untuk tetap setia dan melakukan perjalanan lebih sering.\n",
    "\n",
    "Disloyal Customer: Mayoritas pelanggan yang tidak setia merasa tidak puas, yang menandakan bahwa mereka tidak terkesan dengan layanan yang diberikan. Untuk menarik pelanggan ini menjadi lebih loyal, maskapai harus meningkatkan pengalaman mereka dan berusaha memenuhi ekspektasi mereka lebih baik.\n",
    "\n",
    "Potensi tindakan: Maskapai perlu memperhatikan kedua kelompok ini. Mereka dapat memperkuat kepuasan pelanggan setia dengan meningkatkan kualitas layanan, sementara pada saat yang sama fokus pada meningkatkan pengalaman pelanggan tidak setia agar dapat mengubah mereka menjadi pelanggan yang lebih loyal.\n",
    "```"
   ]
  },
  {
   "cell_type": "markdown",
   "metadata": {},
   "source": [
    "# 6. Pengambilan kesimpulan dan Visualisasi data"
   ]
  },
  {
   "cell_type": "markdown",
   "metadata": {},
   "source": [
    "```\n",
    "Dari segi data, informasi mengenai data types menunjukkan bahwa tipe integer, float, dan object sudah sesuai dengan peruntukannya. Namun, ditemukan 83 missing values pada kolom Arrival Delay in Minutes, yang perlu ditangani. Di kolom Arrival Delay in Minutes memiliki nilai skew 6.9 sehingga terindikasi distribusi data tidak normal sehingga untuk mengisi nilai missing digunakan nilai median sebagai representatif missing value. Terdapat penambahan kolom Departure_Delay_Category untuk memberikan gambaran umum yang lebih terstruktur, sehingga memudahkan dalam mengambil keputusan manajerial berdasarkan hasil analisis tersebut. \n",
    "\n",
    "Berdasarkan analisis, terlihat bahwa tingkat kepuasan penumpang sangat dipengaruhi oleh berbagai faktor, seperti kelas penerbangan, keterlambatan, dan jenis layanan yang diberikan. Penumpang di kelas Business cenderung lebih puas dibandingkan dengan kelas Economy dan Economy Plus, menunjukkan bahwa layanan yang lebih baik dan kenyamanan yang lebih tinggi berkontribusi signifikan terhadap kepuasan. Keterlambatan penerbangan, terutama yang lebih dari 30 menit, menurunkan kepuasan secara drastis, baik untuk keberangkatan maupun kedatangan. Faktor-faktor seperti kenyamanan kursi, hiburan dalam penerbangan, dan ruang kaki juga memiliki dampak besar terhadap tingkat kepuasan, sementara Wi-Fi dan makanan masih bisa ditingkatkan. Loyalitas pelanggan juga memainkan peran penting, di mana pelanggan setia memiliki kepuasan yang lebih tinggi dibandingkan pelanggan tidak setia. Secara keseluruhan, maskapai dapat meningkatkan kepuasan pelanggan dengan fokus pada peningkatan layanan di kelas Economy dan Economy Plus, meminimalisir keterlambatan, serta memperbaiki kualitas layanan yang berkaitan dengan kenyamanan dan hiburan.\n",
    "```\n",
    "\n",
    "``` https://public.tableau.com/views/MilestoneP0/DashboardKepuasanPenumpangMaskapai?:language=en-US&publish=yes&:sid=&:redirect=auth&:display_count=n&:origin=viz_share_link ```"
   ]
  }
 ],
 "metadata": {
  "kernelspec": {
   "display_name": "base",
   "language": "python",
   "name": "python3"
  },
  "language_info": {
   "codemirror_mode": {
    "name": "ipython",
    "version": 3
   },
   "file_extension": ".py",
   "mimetype": "text/x-python",
   "name": "python",
   "nbconvert_exporter": "python",
   "pygments_lexer": "ipython3",
   "version": "3.9.19"
  }
 },
 "nbformat": 4,
 "nbformat_minor": 2
}
